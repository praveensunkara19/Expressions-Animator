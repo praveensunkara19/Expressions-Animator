{
 "cells": [
  {
   "cell_type": "code",
   "execution_count": 1,
   "id": "8def648b",
   "metadata": {},
   "outputs": [
    {
     "name": "stdout",
     "output_type": "stream",
     "text": [
      "3.10.11 (tags/v3.10.11:7d4cc5a, Apr  5 2023, 00:38:17) [MSC v.1929 64 bit (AMD64)]\n",
      "C:\\Users\\prave\\AppData\\Local\\Microsoft\\WindowsApps\\PythonSoftwareFoundation.Python.3.10_qbz5n2kfra8p0\\python.exe\n"
     ]
    }
   ],
   "source": [
    "import sys\n",
    "print(sys.version)\n",
    "print(sys.executable)"
   ]
  },
  {
   "cell_type": "code",
   "execution_count": 2,
   "id": "9804c95d",
   "metadata": {},
   "outputs": [
    {
     "name": "stderr",
     "output_type": "stream",
     "text": [
      "\n",
      "[notice] A new release of pip is available: 23.0.1 -> 25.1.1\n",
      "[notice] To update, run: C:\\Users\\prave\\AppData\\Local\\Microsoft\\WindowsApps\\PythonSoftwareFoundation.Python.3.10_qbz5n2kfra8p0\\python.exe -m pip install --upgrade pip\n"
     ]
    },
    {
     "name": "stdout",
     "output_type": "stream",
     "text": [
      "Requirement already satisfied: ffpyplayer in c:\\users\\prave\\appdata\\local\\packages\\pythonsoftwarefoundation.python.3.10_qbz5n2kfra8p0\\localcache\\local-packages\\python310\\site-packages (4.5.3)\n"
     ]
    },
    {
     "name": "stderr",
     "output_type": "stream",
     "text": [
      "\n",
      "[notice] A new release of pip is available: 23.0.1 -> 25.1.1\n",
      "[notice] To update, run: C:\\Users\\prave\\AppData\\Local\\Microsoft\\WindowsApps\\PythonSoftwareFoundation.Python.3.10_qbz5n2kfra8p0\\python.exe -m pip install --upgrade pip\n"
     ]
    },
    {
     "name": "stdout",
     "output_type": "stream",
     "text": [
      "Requirement already satisfied: opencv-python in c:\\users\\prave\\appdata\\local\\packages\\pythonsoftwarefoundation.python.3.10_qbz5n2kfra8p0\\localcache\\local-packages\\python310\\site-packages (4.12.0.88)\n",
      "Requirement already satisfied: numpy<2.3.0,>=2 in c:\\users\\prave\\appdata\\local\\packages\\pythonsoftwarefoundation.python.3.10_qbz5n2kfra8p0\\localcache\\local-packages\\python310\\site-packages (from opencv-python) (2.2.6)\n"
     ]
    },
    {
     "name": "stderr",
     "output_type": "stream",
     "text": [
      "\n",
      "[notice] A new release of pip is available: 23.0.1 -> 25.1.1\n",
      "[notice] To update, run: C:\\Users\\prave\\AppData\\Local\\Microsoft\\WindowsApps\\PythonSoftwareFoundation.Python.3.10_qbz5n2kfra8p0\\python.exe -m pip install --upgrade pip\n"
     ]
    }
   ],
   "source": [
    "!pip install -U openai-whisper -q\n",
    "!pip install ffpyplayer\n",
    "!pip install opencv-python"
   ]
  },
  {
   "cell_type": "code",
   "execution_count": 3,
   "id": "79520672",
   "metadata": {},
   "outputs": [],
   "source": [
    "import ffpyplayer\n",
    "from ffpyplayer.player import MediaPlayer\n",
    "import cv2\n",
    "import whisper\n",
    "import subprocess"
   ]
  },
  {
   "cell_type": "code",
   "execution_count": null,
   "id": "41c48c06",
   "metadata": {},
   "outputs": [
    {
     "name": "stdout",
     "output_type": "stream",
     "text": [
      "Transcription:  But her head would look like on a stick.\n",
      "End of video\n"
     ]
    }
   ],
   "source": [
    "\n",
    "\n",
    "def extract_audio(video_path, audio_path=\"audio.mp3\"):\n",
    "    # Extract audio using ffmpeg\n",
    "    command = f'ffmpeg -i \"{video_path}\" -q:a 0 -map a \"{audio_path}\" -y'\n",
    "    subprocess.call(command, shell=True)\n",
    "    return audio_path\n",
    "\n",
    "def PlayVideo(video_path):\n",
    "    video = cv2.VideoCapture(video_path)\n",
    "    player = MediaPlayer(video_path)\n",
    "\n",
    "    # Extract audio from video before transcription\n",
    "    audio_path = extract_audio(video_path)\n",
    "\n",
    "    # Load Whisper model and transcribe\n",
    "    model = whisper.load_model(\"base\")\n",
    "    result = model.transcribe(audio_path)\n",
    "    print(\"Transcription:\", result[\"text\"])\n",
    "    \n",
    "    # Play video with audio\n",
    "    while True:\n",
    "        grabbed, frame = video.read()\n",
    "        audio_frame, val = player.get_frame()\n",
    "\n",
    "        if not grabbed:\n",
    "            print(\"End of video\")\n",
    "            break\n",
    "\n",
    "        cv2.imshow(\"Video\", frame)\n",
    "\n",
    "        if val != 'eof' and audio_frame is not None:\n",
    "            img, t = audio_frame\n",
    "\n",
    "        if cv2.waitKey(25) & 0xFF == ord('q'):\n",
    "            break\n",
    "\n",
    "    video.release()\n",
    "    cv2.destroyAllWindows()\n",
    "\n",
    "PlayVideo(\"C:\\\\Users\\\\prave\\\\OneDrive\\\\Desktop\\\\Git\\\\Face-Animator\\\\mediapipe\\\\test\\\\exp_test.mp4\")\n"
   ]
  },
  {
   "cell_type": "code",
   "execution_count": 6,
   "id": "fec9cf91",
   "metadata": {},
   "outputs": [
    {
     "name": "stdout",
     "output_type": "stream",
     "text": [
      " But her head would look like on a stick.\n"
     ]
    }
   ],
   "source": [
    "model = whisper.load_model(\"base\")\n",
    "result = model.transcribe(\"audio.mp3\")\n",
    "print(result[\"text\"])"
   ]
  },
  {
   "cell_type": "code",
   "execution_count": 5,
   "id": "2bc2d3d1",
   "metadata": {},
   "outputs": [
    {
     "name": "stdout",
     "output_type": "stream",
     "text": [
      "Transcription:  But her head would look like on a stick.\n"
     ]
    }
   ],
   "source": [
    "# import whisper\n",
    "# import subprocess\n",
    "\n",
    "def extract_audio(video_path, audio_path=\"audio.mp3\"):\n",
    "    # Extract audio from video using ffmpeg\n",
    "    command = f'ffmpeg -i \"{video_path}\" -q:a 0 -map a \"{audio_path}\" -y'\n",
    "    subprocess.call(command, shell=True)\n",
    "    return audio_path\n",
    "\n",
    "def transcribe_video_audio(video_path):\n",
    "    # Extract audio first\n",
    "    audio_path = extract_audio(video_path)\n",
    "    \n",
    "    # Load Whisper model and transcribe\n",
    "    model = whisper.load_model(\"base\")\n",
    "    result = model.transcribe(audio_path)\n",
    "    \n",
    "    # Print transcription\n",
    "    print(\"Transcription:\", result[\"text\"])\n",
    "\n",
    "# Example usage\n",
    "transcribe_video_audio(\"C:\\\\Users\\\\prave\\\\OneDrive\\\\Desktop\\\\Git\\\\Face-Animator\\\\mediapipe\\\\test\\\\exp_test.mp4\")\n"
   ]
  }
 ],
 "metadata": {
  "kernelspec": {
   "display_name": "Python 3",
   "language": "python",
   "name": "python3"
  },
  "language_info": {
   "codemirror_mode": {
    "name": "ipython",
    "version": 3
   },
   "file_extension": ".py",
   "mimetype": "text/x-python",
   "name": "python",
   "nbconvert_exporter": "python",
   "pygments_lexer": "ipython3",
   "version": "3.10.11"
  }
 },
 "nbformat": 4,
 "nbformat_minor": 5
}
